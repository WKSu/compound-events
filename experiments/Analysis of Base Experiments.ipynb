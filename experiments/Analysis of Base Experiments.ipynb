{
 "cells": [
  {
   "cell_type": "markdown",
   "metadata": {},
   "source": [
    "# NetLogo Results Analysis for the Compound Events Model"
   ]
  },
  {
   "cell_type": "markdown",
   "metadata": {},
   "source": [
    "## 1. Experiment Setup\n",
    "\n",
    "\n",
    "- max_effectiveness (policy lever) | [2 - 6 - 10]\n",
    "\n",
    "If bands were to have invested in their efficiency to hunt and gather, this could create a higher survivability. This parameter will show the relative importance of skill.\n",
    "\n",
    "\n",
    "- cooperation_radius (policy_lever) | [1 - 3 - 5]\n",
    "\n",
    "This parameter focuses on the cooperation and sharing of knowledge between bands. It will show the relative importance of working together and acquiring knowledge.\n",
    "\n",
    "\n",
    "- maximum_days_moving (policy lever) | [10 - 30 - 50]\n",
    "\n",
    "This parameter will show the relative importance of the ability to move around easily.\n",
    "\n",
    "- start_event | [60 - 120 - 240]\n",
    "\n",
    "Altering the starting time of the volcano eruption will show how important it is for bands to be fully prepared for such a shock. Also, the situation where no volcano erupted at all will be analysed.\n",
    "\n",
    "- GISP2_trend | [On - Off]\n",
    "Turning the existence of climate change on or off will show the impact of the stress of low temperature on the survivability of the bands. Together with the volcano eruption, this will create 4 possible situations: stable model, only climate change, only eruption, compound event.\n",
    "\n",
    "\n",
    "Out of these parameters, a full facotorial experiment setup will be run. There will be 10 replications for each set of parameter combination. "
   ]
  },
  {
   "cell_type": "markdown",
   "metadata": {},
   "source": [
    "## 2.1 Analysis of results with climate trend"
   ]
  },
  {
   "cell_type": "code",
   "execution_count": 2,
   "metadata": {},
   "outputs": [],
   "source": [
    "#Load libraries\n",
    "%matplotlib inline\n",
    "import pandas as pd\n",
    "import numpy as np\n",
    "import seaborn as sns\n",
    "import matplotlib.pyplot as plt\n",
    "from mpl_toolkits.mplot3d import Axes3D\n",
    "plt.style.use('ggplot')"
   ]
  },
  {
   "cell_type": "code",
   "execution_count": 3,
   "metadata": {},
   "outputs": [
    {
     "data": {
      "text/plain": [
       "'D:\\\\OneDrive\\\\Delft\\\\EPA\\\\EPA2.2\\\\SEN9120 - Advanced Agent Based Modeling\\\\Compound Events\\\\compound-events\\\\experiments'"
      ]
     },
     "execution_count": 3,
     "metadata": {},
     "output_type": "execute_result"
    }
   ],
   "source": [
    "import os\n",
    "os.getcwd() # Check in which directory you are working at the moment"
   ]
  },
  {
   "cell_type": "markdown",
   "metadata": {},
   "source": [
    "### 2.2 Data Preparation"
   ]
  },
  {
   "cell_type": "code",
   "execution_count": 4,
   "metadata": {},
   "outputs": [],
   "source": [
    "# Adjust this to where you have saved the experiment results\n",
    "# Skip the first 6 rows to get to the data\n",
    "df_climate = pd.read_csv(\"Draft Experiments/base-experiment-trendtrue.csv\", skiprows = 6) "
   ]
  },
  {
   "cell_type": "code",
   "execution_count": 5,
   "metadata": {},
   "outputs": [
    {
     "name": "stderr",
     "output_type": "stream",
     "text": [
      "C:\\Users\\Kevin\\Anaconda3\\lib\\site-packages\\pandas\\core\\frame.py:4223: SettingWithCopyWarning: \n",
      "A value is trying to be set on a copy of a slice from a DataFrame\n",
      "\n",
      "See the caveats in the documentation: http://pandas.pydata.org/pandas-docs/stable/user_guide/indexing.html#returning-a-view-versus-a-copy\n",
      "  return super().rename(**kwargs)\n"
     ]
    }
   ],
   "source": [
    "# Make the dataframe smaller by only selecting columns that are needed\n",
    "# for parameter columns: only keep max_effectiveness, cooperation_radius, \n",
    "# maximum_days_moving, start_event - the rest is fixed to certain parameters (see report)\n",
    "# 'GISP2_trend' not necessary because the results file is already split\n",
    "columns = list(df_climate.columns) # See which parameters and reporters are in the dataframe\n",
    "parameter_columns = ['[run number]', 'max_effectiveness', 'cooperation_radius', 'maximum_days_moving',\n",
    "                    'start_event']\n",
    "kpi_columns = columns[60:]\n",
    "columns_needed = parameter_columns + kpi_columns\n",
    "\n",
    "df_climate_small = df_climate[columns_needed] # Create a new DF with the smaller subset of columns\n",
    "df_climate_small.rename(columns={'[run number]':'run_number','[step]':'tick'}, inplace=True) # Change the column names to make more sense"
   ]
  },
  {
   "cell_type": "code",
   "execution_count": 6,
   "metadata": {},
   "outputs": [],
   "source": [
    "# Remove the data at tick 0 because most of the reporters do not have a value at the start\n",
    "df_climate_small = df_climate_small[df_climate_small['tick'] != 0]\n",
    "\n",
    "# Add the deaths of the impact from the volcano eruption together\n",
    "df_climate_small['death_by_event'] = df_climate_small['death_by_volcano'] + df_climate_small['death_by_ash']\n",
    "\n",
    "# Calculate the mean population of a run\n",
    "run_numbers = np.sort(df_climate_small['run_number'].unique())\n",
    "for i in run_numbers:\n",
    "    df_run = df_climate_small[df_climate_small['run_number'] == i]\n",
    "    mean_pop_run = df_run[\"total_population\"].mean()\n",
    "    df_climate_small.loc[df_climate_small['run_number'] == i, 'mean_population'] = mean_pop_run"
   ]
  },
  {
   "cell_type": "code",
   "execution_count": 7,
   "metadata": {},
   "outputs": [
    {
     "data": {
      "text/plain": [
       "Index(['run_number', 'max_effectiveness', 'cooperation_radius',\n",
       "       'maximum_days_moving', 'start_event', 'tick',\n",
       "       'average_temperature_of_patches', 'average_precipitation_of_patches',\n",
       "       'impact_by_ash', 'death_by_volcano', 'death_by_ash',\n",
       "       'event_cultural_capital_loss', 'lost_resources',\n",
       "       'average_food_available', 'average_resources_available',\n",
       "       'number_of_communities', 'average_community_size', 'number_of_links',\n",
       "       'average_knowledge_locations', 'average_cultural_capital',\n",
       "       'average_technology_level', 'average_time_spent_moving',\n",
       "       'mean_group_size', 'total_number_of_bands', 'total_population',\n",
       "       'death_by_event', 'mean_population'],\n",
       "      dtype='object')"
      ]
     },
     "execution_count": 7,
     "metadata": {},
     "output_type": "execute_result"
    }
   ],
   "source": [
    "df_climate_small.columns # See which parameters and reporters are in the dataframe"
   ]
  },
  {
   "cell_type": "markdown",
   "metadata": {},
   "source": [
    "### 2.3 Exploring the Data"
   ]
  },
  {
   "cell_type": "markdown",
   "metadata": {},
   "source": [
    "A quick way to analyze the data is look at the effect of our policy parameters on our KPI's! To do this we use some tools from the [EMA Workbench package](https://emaworkbench.readthedocs.io/en/latest/index.html), specifically the tool [feature scoring](https://emaworkbench.readthedocs.io/en/latest/ema_documentation/analysis/feature_scoring.html) tool. \n",
    "\n",
    "Specifically it creates a linear model (regression test) that looks the individual effect of each parameter on the KPI's. We will apply the Extra Trees algorithm, it randomizes the cut-points fully at random (when to split the tree) to prevent certain biases; more information can be found [here](https://link.springer.com/article/10.1007/s10994-006-6226-1)."
   ]
  },
  {
   "cell_type": "code",
   "execution_count": 12,
   "metadata": {},
   "outputs": [],
   "source": [
    "from ema_workbench.analysis import parcoords, feature_scoring\n",
    "from ema_workbench.analysis.feature_scoring import get_feature_scores_all, RuleInductionType"
   ]
  },
  {
   "cell_type": "code",
   "execution_count": 16,
   "metadata": {},
   "outputs": [],
   "source": [
    "df_climate_small_final = df_climate_small[df_climate_small['tick'].isin([240])] # only take the value when the model finishes\n",
    "x = df_climate_small_final[['max_effectiveness', 'cooperation_radius', 'maximum_days_moving', 'start_event']]\n",
    "y = df_climate_small_final[['average_temperature_of_patches', 'average_precipitation_of_patches',\n",
    "       'impact_by_ash', 'death_by_volcano', 'death_by_ash',\n",
    "       'event_cultural_capital_loss', 'lost_resources',\n",
    "       'average_food_available', 'average_resources_available',\n",
    "       'number_of_communities', 'average_community_size', 'number_of_links',\n",
    "       'average_knowledge_locations', 'average_cultural_capital',\n",
    "       'average_technology_level', 'average_time_spent_moving',\n",
    "       'mean_group_size', 'total_number_of_bands', 'total_population',\n",
    "       'death_by_event', 'mean_population']]"
   ]
  },
  {
   "cell_type": "code",
   "execution_count": 40,
   "metadata": {},
   "outputs": [
    {
     "data": {
      "image/png": "[encoded data removed]",
      "text/plain": [
       "<Figure size 1440x720 with 2 Axes>"
      ]
     },
     "metadata": {},
     "output_type": "display_data"
    }
   ],
   "source": [
    "fs = feature_scoring.get_feature_scores_all(\n",
    "    x, y, mode=RuleInductionType.REGRESSION)\n",
    "fig = plt.subplots(figsize=(20, 10))\n",
    "\n",
    "sns.heatmap(fs, cmap='viridis', linewidths=1)\n",
    "pos, textvals = plt.yticks()\n",
    "plt.yticks(pos, ('cooperation_radius', 'max_effectiveness', \"maximum_days_moving\", \"start_event\"), rotation=0, va=\"center\")\n",
    "plt.show()"
   ]
  },
  {
   "cell_type": "markdown",
   "metadata": {},
   "source": [
    "This graph quickly shows the effect of each parameter on the KPI's. \n",
    "- Cooperation radius is an important factor for the community based KPI's, such as number of communities, community size, and number of links.\n",
    "- The max effectiveness impacts almost everything, however, its biggest impact is on the cultural capital and technology levels.\n",
    "- The mobility factor (maximum days moving) has a slight influence on death by volcano and the mean group size.\n",
    "- The timing of the volcano impacts the impact KPI's especially."
   ]
  },
  {
   "cell_type": "markdown",
   "metadata": {},
   "source": [
    "#### 2.3.1 Total Population"
   ]
  },
  {
   "cell_type": "code",
   "execution_count": null,
   "metadata": {},
   "outputs": [],
   "source": [
    "ax = df_climate_small.plot.scatter(x='tick',y='total_population', figsize=(20,10))\n",
    "# add lines showing when the volcano erupted\n",
    "ax.axvline(x=60) \n",
    "ax.axvline(x=120)\n",
    "plt.show()"
   ]
  },
  {
   "cell_type": "markdown",
   "metadata": {},
   "source": [
    "Quick plot that shows the distribution of the total population in the model. Few things to notice from this graph:\n",
    "- The initial collapse of the population (around 10 ticks) is most-likely due to an unstable population spawn, in which the hunter-gatherer bands are set up in unlivable conditions. \n",
    "- For the temperature trend: the ice age starts around 125 ticks, which this model shows with a decreased population growth. As you can see, it was set to rise more, however, due to the ice age this growth has either decreased or limited.\n",
    "- There are two big trends visible: one in which the population is stable and continues to rise and one where the population fall into a decrease.\n",
    "- Around 60 and 120 ticks there are certain subsets that dropped in population. This is most-likely caused by a volcano but we can explore this further. \n",
    "\n",
    "From this we can certainly explore different avenues:\n",
    "- Which conditions lead to a decreasing / increasing population growth?\n",
    "- What is the impact of the volcano on the population? "
   ]
  },
  {
   "cell_type": "markdown",
   "metadata": {},
   "source": [
    "##### Declining Population"
   ]
  },
  {
   "cell_type": "code",
   "execution_count": null,
   "metadata": {},
   "outputs": [],
   "source": [
    "# Only select the runs which has a downward slope in population\n",
    "run_numbers = np.sort(df_climate_small['run_number'].unique())\n",
    "runs_downward_slope = []\n",
    "\n",
    "for i in run_numbers: \n",
    "    df_run = df_climate_small[df_climate_small['run_number'] == i]\n",
    "    # if the total population is lower than 10000 at around tick 50, it is a downward slope (see graph above)\n",
    "    # append the run number to a list of runs with a downward slope\n",
    "    if 10000 > df_run['total_population'].values[10]:\n",
    "        runs_downward_slope.append(i)\n",
    "        \n",
    "df_climate_downward_pop = df_climate_small.loc[df_climate_small['run_number'].isin(runs_downward_slope)]"
   ]
  },
  {
   "cell_type": "code",
   "execution_count": null,
   "metadata": {},
   "outputs": [],
   "source": [
    "# Check if all these runs are in a downward slope\n",
    "df_climate_downward_pop.plot.scatter(x='tick',y='total_population',c='run_number',colormap='plasma', figsize=(20,10))\n",
    "plt.show()"
   ]
  },
  {
   "cell_type": "code",
   "execution_count": null,
   "metadata": {},
   "outputs": [],
   "source": [
    "fig = plt.figure(figsize=(12,14))\n",
    "ax1 = fig.add_subplot(311)\n",
    "ax2 = fig.add_subplot(312)\n",
    "ax3 = fig.add_subplot(313)\n",
    "\n",
    "sns.boxplot(data = df_climate_downward_pop, x='max_effectiveness',y='total_population', ax = ax1)\n",
    "plt.title(\"Impact Max Effectiveness on Total Population\")\n",
    "\n",
    "sns.boxplot(data = df_climate_downward_pop, x='cooperation_radius',y='total_population', ax = ax2)\n",
    "plt.title(\"Impact Cooperation Radius on Total Population\")\n",
    "\n",
    "sns.boxplot(data = df_climate_downward_pop, x='maximum_days_moving',y='total_population', ax = ax3)\n",
    "plt.title(\"Impact Maximum Days Moving on Total Population\")\n",
    "plt.tight_layout()\n",
    "plt.show()"
   ]
  },
  {
   "cell_type": "code",
   "execution_count": null,
   "metadata": {},
   "outputs": [],
   "source": [
    "fig = plt.figure(figsize=(12,14))\n",
    "ax1 = fig.add_subplot(311)\n",
    "ax2 = fig.add_subplot(312)\n",
    "ax3 = fig.add_subplot(313)\n",
    "\n",
    "sns.boxplot(data = df_climate_small, x='max_effectiveness',y='total_population', ax = ax1)\n",
    "plt.title(\"Impact Max Effectiveness on Total Population\")\n",
    "\n",
    "sns.boxplot(data = df_climate_small, x='cooperation_radius',y='total_population', ax = ax2)\n",
    "plt.title(\"Impact Cooperation Radius on Total Population\")\n",
    "\n",
    "sns.boxplot(data = df_climate_small, x='maximum_days_moving',y='total_population', ax = ax3)\n",
    "plt.title(\"Impact Maximum Days Moving on Total Population\")\n",
    "plt.tight_layout()\n",
    "plt.show()"
   ]
  },
  {
   "cell_type": "markdown",
   "metadata": {},
   "source": [
    "We can see that a low max_effectiveness (2) causes a declining population! What this means is that they are unable to gather food and resources to properly sustain themselves, the tipping point between a growing or declining population could be between 2 and 6. \n",
    "\n"
   ]
  },
  {
   "cell_type": "markdown",
   "metadata": {},
   "source": [
    "##### Impact Volcano on Population"
   ]
  },
  {
   "cell_type": "markdown",
   "metadata": {},
   "source": [
    "The previous analysis showed what was the cause of a declining population. In this analysis we can quickly show what the effect is of the Laacher See Volcano on an increasing and a declining population. In the experiment setup there are three possibilites: eruption at tick 60, 120, or 240 (never). To achieve this, we take the mean population of the entire run and compare across the three scenarios."
   ]
  },
  {
   "cell_type": "code",
   "execution_count": null,
   "metadata": {},
   "outputs": [],
   "source": [
    "df_climate_upward_pop = df_climate_small.loc[~df_climate_small['run_number'].isin(runs_downward_slope)]\n",
    "# Check if all these runs are in a upward slope\n",
    "# df_climate_upward_pop.plot.scatter(x='tick',y='total_population',c='run_number',colormap='plasma', figsize=(20,10))"
   ]
  },
  {
   "cell_type": "code",
   "execution_count": null,
   "metadata": {},
   "outputs": [],
   "source": [
    "fig = plt.figure()\n",
    "ax1 = fig.add_subplot(211)\n",
    "ax2 = fig.add_subplot(212)\n",
    "\n",
    "sns.boxplot(data = df_climate_downward_pop, x='start_event',y='mean_population', ax = ax1)\n",
    "plt.title(\"Volcano Scenarios on the population mean of a decreasing population\")\n",
    "\n",
    "sns.boxplot(data = df_climate_upward_pop, x='start_event',y='mean_population', ax = ax2)\n",
    "plt.title(\"Volcano Scenarios on the population mean of an increasing population\")\n",
    "fig.tight_layout()\n",
    "plt.show()"
   ]
  },
  {
   "cell_type": "markdown",
   "metadata": {},
   "source": [
    "From these boxplots we can see that an early volcano eruption eruption can lower the mean population in the area. This effect is stronger with an increasing population because an offset due to the volcano lowers the growth of the population. We can see that in both declining and increasing populations no volcano eruption leads to a higher mean population. "
   ]
  },
  {
   "cell_type": "markdown",
   "metadata": {},
   "source": [
    "#### 2.3.2 Cultural Capital & Technology Level"
   ]
  },
  {
   "cell_type": "code",
   "execution_count": null,
   "metadata": {},
   "outputs": [],
   "source": [
    "ax1 = sns.lineplot(x=\"tick\", y=\"average_cultural_capital\", data=df_climate_small, label = \"Cultural Capital\")\n",
    "ax2 = sns.lineplot(x=\"tick\", y=\"average_technology_level\", data=df_climate_small, ax = ax1, label = \"Technology Level\")\n",
    "plt.title(\"Average cultural capital and technology level over time\")\n",
    "plt.ylabel('Cultural Capital and Technology Level')\n",
    "plt.show()"
   ]
  },
  {
   "cell_type": "markdown",
   "metadata": {},
   "source": [
    "What is notciable from this graph is that the cultural capital and technology level continue to grow until they have reached a stable position, it is very similar to the cumulative exponential distribution function. There seems to be a gap between the cultural capital and technology level as not every band is able to fulfill their potential because of lack of resources."
   ]
  },
  {
   "cell_type": "code",
   "execution_count": null,
   "metadata": {},
   "outputs": [],
   "source": [
    "fig = plt.figure(figsize=(12,16))\n",
    "ax1 = fig.add_subplot(411)\n",
    "ax2 = fig.add_subplot(412)\n",
    "ax3 = fig.add_subplot(413)\n",
    "ax4 = fig.add_subplot(414)\n",
    "\n",
    "sns.boxplot(data = df_climate_small, x='max_effectiveness',y='average_technology_level', ax = ax1)\n",
    "plt.title(\"Impact Max Effectiveness on Average Technology Level\")\n",
    "\n",
    "sns.boxplot(data = df_climate_small, x='cooperation_radius',y='average_technology_level', ax = ax2)\n",
    "plt.title(\"Impact Cooperation Radius on Average Technology Level\")\n",
    "\n",
    "sns.boxplot(data = df_climate_small, x='maximum_days_moving',y='average_technology_level', ax = ax3)\n",
    "plt.title(\"Impact Maximum Days Moving on Average Technology Level\")\n",
    "\n",
    "sns.boxplot(data = df_climate_small, x='start_event',y='average_technology_level', ax = ax4)\n",
    "plt.title(\"Impact Start Event on Average Technology Level\")\n",
    "\n",
    "plt.tight_layout()\n",
    "plt.show()"
   ]
  },
  {
   "cell_type": "markdown",
   "metadata": {},
   "source": [
    "The boxplots mostly show that max effectiveness has an impact on the average technology level, namely a low effectiveness causes the technology level to be higher than in other situations. This mostly comes from because hunter-gatherer bands who have a low technology level already died out because they are not as efficient. "
   ]
  },
  {
   "cell_type": "markdown",
   "metadata": {},
   "source": [
    "#### 2.3.3 Knowledge Locations"
   ]
  },
  {
   "cell_type": "markdown",
   "metadata": {},
   "source": [
    "#### 2.3.4 Movements"
   ]
  },
  {
   "cell_type": "markdown",
   "metadata": {},
   "source": [
    "#### 2.3.5 Clusters"
   ]
  },
  {
   "cell_type": "markdown",
   "metadata": {},
   "source": [
    "#### 2.3.6 Compound Event Impact"
   ]
  },
  {
   "cell_type": "code",
   "execution_count": null,
   "metadata": {},
   "outputs": [],
   "source": [
    "# Scenario Discovery of scenarios with the highest number of deaths\n",
    "\n",
    "# Specific ema_workbench functions\n",
    "from ema_workbench.analysis import prim, dimensional_stacking, cart"
   ]
  },
  {
   "cell_type": "code",
   "execution_count": null,
   "metadata": {},
   "outputs": [],
   "source": [
    "# Only count the values of dead bands at the end of a run\n",
    "df_climate_small_volcano = df_climate_small[~df_climate_small[\"start_event\"].isin([240])]\n",
    "df_climate_small_volcano_end = df_climate_small_volcano[df_climate_small[\"tick\"].isin([240])]"
   ]
  },
  {
   "cell_type": "code",
   "execution_count": null,
   "metadata": {},
   "outputs": [],
   "source": [
    "df_climate_small_volcano_end['death_by_event'].hist()\n",
    "plt.title(\"Histogram of dead bands caused by the volcano\")\n",
    "plt.ylabel(\"Number of Runs\")\n",
    "plt.xlabel(\"The number of dead bands\")\n",
    "plt.show()"
   ]
  },
  {
   "cell_type": "markdown",
   "metadata": {},
   "source": [
    "Interesting enough, there is a huge number of runs where the volcano had a very low or even non-existing impact on the population. This requires us to split the dataset into two because both the low and high values are very interesting to look at. What we already can do is filter out the scenarios where the volcano did not erupt (start_event = 240) and see if there is still a huge number of runs with 0 deaths."
   ]
  },
  {
   "cell_type": "markdown",
   "metadata": {},
   "source": [
    "Nice! It managed to reduce the number of runs where no deaths have occured but it still occurs at a very high frequency. Lets use the Patient Rule Induction Method to take a quick look at scenarios in which this occured"
   ]
  },
  {
   "cell_type": "code",
   "execution_count": null,
   "metadata": {},
   "outputs": [],
   "source": [
    "df_climate_small.columns"
   ]
  },
  {
   "cell_type": "code",
   "execution_count": null,
   "metadata": {},
   "outputs": [],
   "source": [
    "# Set series up to look at scenarios where the number of deaths are higher than 0\n",
    "x = df_climate_small_volcano_end[['max_effectiveness', 'cooperation_radius',\n",
    "       'maximum_days_moving', 'start_event']]  # Only take the parameters\n",
    "\n",
    "y_deaths = df_climate_small_volcano_end['death_by_event'].values\n",
    "y_deaths = y_deaths > 0"
   ]
  },
  {
   "cell_type": "code",
   "execution_count": null,
   "metadata": {},
   "outputs": [],
   "source": [
    "prim_alg = prim.Prim(x, y_deaths, threshold=0.65, peel_alpha=0.1)\n",
    "box1 = prim_alg.find_box()\n",
    "\n",
    "box1.show_tradeoff()\n",
    "plt.show()"
   ]
  },
  {
   "cell_type": "code",
   "execution_count": null,
   "metadata": {},
   "outputs": [],
   "source": [
    "box1.inspect(1)"
   ]
  },
  {
   "cell_type": "markdown",
   "metadata": {},
   "source": [
    "Unfortunately, PRIM did not give us very convincing answers. We are not able to say for certain what is the reason for number of deaths, however, there is a high occurance rate if the max effectiveness is set above 6, the coverage (recall) is then around 67% with a density (precision) of 1. Ultimately, it seems that from the set of parameters a high effectiveness will most-likely cause the most deaths. This can be explained that a high effectiveness would also mean a high population.\n",
    "\n",
    "Lets look at the effect of the volcano on population! Because it is very probable that they are impacted, however, that they do not necessarily die out if they are able to move."
   ]
  },
  {
   "cell_type": "code",
   "execution_count": null,
   "metadata": {},
   "outputs": [],
   "source": [
    "df_climate_small_volcano[\"impact_by_ash\"].hist()"
   ]
  },
  {
   "cell_type": "code",
   "execution_count": null,
   "metadata": {},
   "outputs": [],
   "source": [
    "# Set series up to look at scenarios where the number of deaths are higher than 0\n",
    "y_impact = df_climate_small_volcano['impact_by_ash'].values\n",
    "y_impact = y_impact > 0"
   ]
  },
  {
   "cell_type": "code",
   "execution_count": null,
   "metadata": {},
   "outputs": [],
   "source": [
    "prim_alg = prim.Prim(x, y_deaths, threshold=0.65, peel_alpha=0.1)\n",
    "box1 = prim_alg.find_box()\n",
    "\n",
    "box1.show_tradeoff()\n",
    "plt.show()"
   ]
  },
  {
   "cell_type": "code",
   "execution_count": null,
   "metadata": {},
   "outputs": [],
   "source": [
    "df_climate_small.groupby(df_climate_small['run_number']).boxplot(column=['total_population','death_by_event','average_time_spent_moving'],figsize=(40,40))"
   ]
  },
  {
   "cell_type": "code",
   "execution_count": null,
   "metadata": {},
   "outputs": [],
   "source": [
    "# Let's make another scatterplot, now let's look at grass vs sheep\n",
    "df_climate_small.plot.scatter(x='max_effectiveness',y='average_cultural_capital',figsize=(20,10))"
   ]
  },
  {
   "cell_type": "code",
   "execution_count": null,
   "metadata": {},
   "outputs": [],
   "source": [
    "df_climate_small.plot.scatter(x='tick',y='average_cultural_capital',c='run_number',colormap='viridis', figsize=(15,8))"
   ]
  },
  {
   "cell_type": "code",
   "execution_count": null,
   "metadata": {},
   "outputs": [],
   "source": [
    "df_climate_small.plot.scatter(x='tick',y='total_population',c='run_number',colormap='viridis',figsize=(20,10))"
   ]
  }
 ],
 "metadata": {
  "kernelspec": {
   "display_name": "Python 3",
   "language": "python",
   "name": "python3"
  },
  "language_info": {
   "codemirror_mode": {
    "name": "ipython",
    "version": 3
   },
   "file_extension": ".py",
   "mimetype": "text/x-python",
   "name": "python",
   "nbconvert_exporter": "python",
   "pygments_lexer": "ipython3",
   "version": "3.7.4"
  }
 },
 "nbformat": 4,
 "nbformat_minor": 4
}
